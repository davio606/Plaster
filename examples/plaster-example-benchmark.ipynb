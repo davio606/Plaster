{
 "cells": [
  {
   "cell_type": "code",
   "execution_count": null,
   "metadata": {
    "collapsed": true
   },
   "outputs": [],
   "source": [
    "import random\n",
    "import os\n",
    "#os.environ['TRIPLE_STORE_TYPE'] = 'virtuoso'\n",
    "from plastering.metadata_interface import *\n",
    "from plastering.inferencers.zodiac import ZodiacInterface\n",
    "#from plastering.inferencers.hong_al import HongAlInterface"
   ]
  },
  {
   "cell_type": "code",
   "execution_count": null,
   "metadata": {
    "collapsed": true
   },
   "outputs": [],
   "source": [
    "target_building = 'ebu3b'\n",
    "source_buildings = ['ap_m', 'uva_cse', 'ebu3b']\n",
    "#source_nums = [200, 200, 10]\n",
    "target_srcids = LabeledMetadata.objects(building=target_building).distinct('srcid')"
   ]
  },
  {
   "cell_type": "code",
   "execution_count": null,
   "metadata": {
    "collapsed": true,
    "scrolled": true
   },
   "outputs": [],
   "source": [
    "# TODO: Automatically download Brick.ttl form the URL."
   ]
  },
  {
   "cell_type": "markdown",
   "metadata": {},
   "source": [
    "## Supervised Learning Evaluation\n",
    "We randomly select training exmamples and evalute the performance."
   ]
  },
  {
   "cell_type": "code",
   "execution_count": null,
   "metadata": {
    "collapsed": true,
    "scrolled": true
   },
   "outputs": [],
   "source": [
    "zodiac = ZodiacInterface(target_building,\n",
    "                         target_srcids,\n",
    "                         source_buildings,\n",
    "                        )\n",
    "inferencers = [zodiac]\n",
    "training_srcids = random.sample(target_srcids, 100)\n",
    "test_srcids = [srcid for srcid in target_srcids if srcid not in training_srcids]\n",
    "zodiac.update_model(training_srcids)\n",
    "metrics = zodiac.evaluate(test_srcids)"
   ]
  },
  {
   "cell_type": "code",
   "execution_count": null,
   "metadata": {
    "collapsed": true
   },
   "outputs": [],
   "source": [
    "print(metrics)"
   ]
  },
  {
   "cell_type": "markdown",
   "metadata": {},
   "source": [
    "## Active Learning Evaluation\n",
    "We will choose training examples in each stage based on each algorithm's implementation."
   ]
  },
  {
   "cell_type": "code",
   "execution_count": null,
   "metadata": {
    "collapsed": true
   },
   "outputs": [],
   "source": [
    "TOTAL_ITER_NUM = 200\n",
    "NEW_SAMPLE_NUM = 1\n",
    "zodiac = ZodiacInterface(target_building,\n",
    "                         target_srcids,\n",
    "                         source_buildings,\n",
    "                        )\n",
    "for i in range(0, TOTAL_ITER_NUM):\n",
    "    new_srcids = zodiac.select_informative_samples(NEW_SAMPLE_NUM)\n",
    "    zodiac.update_model(new_srcids)\n",
    "    metrics = zodiac.evaluate(target_srcids)\n",
    "    print(metrics)"
   ]
  },
  {
   "cell_type": "markdown",
   "metadata": {},
   "source": [
    "### Shortcut\n",
    "It is common to run active learning in multiple iterations so we recommend to implement ``learn_auto()`` that learns multiple stages with active learning. It is basically a wrapper of the above implementation."
   ]
  },
  {
   "cell_type": "code",
   "execution_count": null,
   "metadata": {
    "collapsed": true
   },
   "outputs": [],
   "source": [
    "zodiac.learn_auto()"
   ]
  }
 ],
 "metadata": {
  "kernelspec": {
   "display_name": "plastering",
   "language": "python",
   "name": "plastering"
  },
  "language_info": {
   "codemirror_mode": {
    "name": "ipython",
    "version": 3
   },
   "file_extension": ".py",
   "mimetype": "text/x-python",
   "name": "python",
   "nbconvert_exporter": "python",
   "pygments_lexer": "ipython3",
   "version": "3.6.3"
  }
 },
 "nbformat": 4,
 "nbformat_minor": 2
}
