{
 "cells": [
  {
   "cell_type": "code",
   "execution_count": null,
   "metadata": {},
   "outputs": [],
   "source": [
    "from copy import deepcopy\n",
    "\n",
    "import arrow\n",
    "\n",
    "from plastering.inferencers.zodiac import ZodiacInterface\n",
    "from plastering.inferencers.building_adapter import BuildingAdapterInterface\n",
    "from plastering.metadata_interface import *\n",
    "from plastering.workflow import Workflow"
   ]
  },
  {
   "cell_type": "code",
   "execution_count": null,
   "metadata": {},
   "outputs": [],
   "source": [
    "target_building = 'ebu3b'\n",
    "source_buildings = ['ap_m','ebu3b']\n",
    "target_srcids = LabeledMetadata.objects(building=target_building).distinct('srcid')"
   ]
  },
  {
   "cell_type": "code",
   "execution_count": null,
   "metadata": {},
   "outputs": [],
   "source": [
    "base_config = {\n",
    "    'target_building': target_building,\n",
    "    'target_srcids': target_srcids,\n",
    "    'source_buildings': source_buildings,\n",
    "}\n",
    "ba_config = deepcopy(base_config)\n",
    "ba_config['config'] = {\n",
    "    'target_time_ranges': [\n",
    "        (arrow.get(2016, 2, 1), arrow.get(2016, 2, 6))\n",
    "    ],\n",
    "    'source_time_range': (arrow.get(2017, 1, 20), arrow.get(2017, 2, 6)),\n",
    "    #TODO: Clean up this inconsistency in the interface\n",
    "    'threshold': 0.99999999\n",
    "}\n",
    "zodiac_config = deepcopy(base_config)\n",
    "\n",
    "inferencer_classes = {\n",
    "    'ba': BuildingAdapterInterface,\n",
    "    'zodiac': ZodiacInterface,\n",
    "}\n",
    "inferencer_graph = { #Currently only Tree is implemented.\n",
    "    'ba': (ba_config, {\n",
    "        'zodiac': (zodiac_config, {})\n",
    "    })\n",
    "}"
   ]
  },
  {
   "cell_type": "code",
   "execution_count": null,
   "metadata": {
    "scrolled": true
   },
   "outputs": [],
   "source": [
    "workflow = Workflow(target_srcids,\n",
    "                    target_building,\n",
    "                    inferencer_classes,\n",
    "                    inferencer_graph,\n",
    "                   )"
   ]
  },
  {
   "cell_type": "code",
   "execution_count": null,
   "metadata": {},
   "outputs": [],
   "source": [
    "workflow.learn_auto() # The wrapper of continuous active learning.\n",
    "# Print the history of the inferences.\n",
    "print(workflow.history)"
   ]
  }
 ],
 "metadata": {
  "kernelspec": {
   "display_name": "plastering",
   "language": "python",
   "name": "plastering"
  },
  "language_info": {
   "codemirror_mode": {
    "name": "ipython",
    "version": 3
   },
   "file_extension": ".py",
   "mimetype": "text/x-python",
   "name": "python",
   "nbconvert_exporter": "python",
   "pygments_lexer": "ipython3",
   "version": "3.6.3"
  }
 },
 "nbformat": 4,
 "nbformat_minor": 2
}
